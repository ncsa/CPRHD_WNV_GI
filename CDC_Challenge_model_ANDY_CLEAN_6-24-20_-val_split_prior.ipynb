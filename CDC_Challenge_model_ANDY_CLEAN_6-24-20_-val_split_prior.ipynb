{
 "cells": [
  {
   "cell_type": "code",
   "execution_count": 2,
   "metadata": {
    "colab": {},
    "colab_type": "code",
    "executionInfo": {
     "elapsed": 278,
     "status": "ok",
     "timestamp": 1592405045546,
     "user": {
      "displayName": "Andy Sima",
      "photoUrl": "https://lh3.googleusercontent.com/a-/AOh14GgPi40RA26EYAcTjgnQiTI1GaZjpqHDI9zRAq2X3jE=s64",
      "userId": "10714226330436444093"
     },
     "user_tz": 300
    },
    "id": "d3XU1S86Dem8"
   },
   "outputs": [
    {
     "name": "stderr",
     "output_type": "stream",
     "text": [
      "Using TensorFlow backend.\n"
     ]
    }
   ],
   "source": [
    "%matplotlib inline\n",
    "import pandas as pd\n",
    "import numpy as np\n",
    "import matplotlib.pyplot as plt\n",
    "from tensorflow import keras\n",
    "from sklearn.model_selection import train_test_split\n",
    "from sklearn import metrics\n",
    "from keras.models import Sequential\n",
    "from keras.layers import Dense, BatchNormalization\n",
    "from keras.layers import LSTM\n",
    "from keras.layers import GRU\n",
    "from keras import regularizers\n",
    "import keras\n",
    "from sklearn.preprocessing import MinMaxScaler\n",
    "from sklearn.utils import shuffle\n",
    "from keras.wrappers.scikit_learn import KerasClassifier\n",
    "from sklearn.model_selection import cross_val_score\n",
    "from sklearn.model_selection import KFold\n",
    "from sklearn.metrics import r2_score\n",
    "from sklearn.metrics import mean_squared_error\n",
    "from sklearn.pipeline import Pipeline\n",
    "from sklearn.metrics import confusion_matrix\n",
    "import seaborn as sn\n",
    "import itertools  \n",
    "from sklearn.utils.class_weight import compute_class_weight\n",
    "from imblearn.over_sampling import RandomOverSampler\n",
    "from collections import Counter\n",
    "import random\n",
    "from sklearn.utils import resample\n",
    "import matplotlib.pyplot as plt\n",
    "from hyperopt import hp, tpe, fmin, Trials, STATUS_OK"
   ]
  },
  {
   "cell_type": "code",
   "execution_count": 3,
   "metadata": {
    "colab": {},
    "colab_type": "code",
    "executionInfo": {
     "elapsed": 570,
     "status": "ok",
     "timestamp": 1592405049039,
     "user": {
      "displayName": "Andy Sima",
      "photoUrl": "https://lh3.googleusercontent.com/a-/AOh14GgPi40RA26EYAcTjgnQiTI1GaZjpqHDI9zRAq2X3jE=s64",
      "userId": "10714226330436444093"
     },
     "user_tz": 300
    },
    "id": "c4XHzkWuDenN"
   },
   "outputs": [],
   "source": [
    "#Function to print confusion matrix in a nice format.\n",
    "def print_cm(cm, labels, hide_zeroes=False, hide_diagonal=False, hide_threshold=None):\n",
    "    \"\"\"pretty print for confusion matrixes\"\"\"\n",
    "    columnwidth = max([len(x) for x in labels] + [5])  # 5 is value length\n",
    "    empty_cell = \" \" * columnwidth\n",
    "    # Print header\n",
    "    print(\"    \" + empty_cell, end=\" \")\n",
    "    for label in labels:\n",
    "        print(\"%{0}s\".format(columnwidth) % label, end=\" \")\n",
    "    print()\n",
    "    # Print rows\n",
    "    for i, label1 in enumerate(labels):\n",
    "        print(\"    %{0}s\".format(columnwidth) % label1, end=\" \")\n",
    "        for j in range(len(labels)):\n",
    "            cell = \"%{0}.1f\".format(columnwidth) % cm[i, j]\n",
    "            if hide_zeroes:\n",
    "                cell = cell if float(cm[i, j]) != 0 else empty_cell\n",
    "            if hide_diagonal:\n",
    "                cell = cell if i != j else empty_cell\n",
    "            if hide_threshold:\n",
    "                cell = cell if cm[i, j] > hide_threshold else empty_cell\n",
    "            print(cell, end=\" \")\n",
    "        print()"
   ]
  },
  {
   "cell_type": "code",
   "execution_count": 4,
   "metadata": {
    "colab": {},
    "colab_type": "code",
    "executionInfo": {
     "elapsed": 281,
     "status": "ok",
     "timestamp": 1592405082918,
     "user": {
      "displayName": "Andy Sima",
      "photoUrl": "https://lh3.googleusercontent.com/a-/AOh14GgPi40RA26EYAcTjgnQiTI1GaZjpqHDI9zRAq2X3jE=s64",
      "userId": "10714226330436444093"
     },
     "user_tz": 300
    },
    "id": "6Tew4TY5DenS"
   },
   "outputs": [],
   "source": [
    "##Specifying training data parameters.\n",
    "years=range(2000,2019)\n",
    "num_years=5\n",
    "#Features/columns that will be used for prediction.\n",
    "features=[\"count\", \"County_type\",\"Incident_nominal\"]"
   ]
  },
  {
   "cell_type": "code",
   "execution_count": 5,
   "metadata": {
    "colab": {},
    "colab_type": "code",
    "id": "vm5lg4uEDenY",
    "outputId": "528eb027-2a0c-4557-f899-d856bd1ea589"
   },
   "outputs": [],
   "source": [
    "#Importing training and testing data\n",
    "train_path=\"C:/Users/andre/NCSA_Python/SPIN_CDC/Temporal_df.csv\"\n",
    "temporal_df=pd.read_csv(train_path)\n",
    "test_path=\"C:/Users/andre/NCSA_Python/SPIN_CDC/Temporal_df_test.csv\"\n",
    "temporal_df_test=pd.read_csv(test_path)"
   ]
  },
  {
   "cell_type": "code",
   "execution_count": 6,
   "metadata": {
    "colab": {},
    "colab_type": "code",
    "id": "Rlc5XljLDenb"
   },
   "outputs": [],
   "source": [
    "#Importing county names\n",
    "county_path=\"C:/Users/andre/NCSA_Python/SPIN_CDC/County_name.csv\"\n",
    "df_county=pd.read_csv(county_path)"
   ]
  },
  {
   "cell_type": "code",
   "execution_count": 7,
   "metadata": {
    "colab": {},
    "colab_type": "code",
    "id": "xwxQaUA5Denf",
    "outputId": "a1d217c5-74fa-4a99-cf4d-3c5b33f69936"
   },
   "outputs": [
    {
     "data": {
      "text/html": [
       "<div>\n",
       "<style scoped>\n",
       "    .dataframe tbody tr th:only-of-type {\n",
       "        vertical-align: middle;\n",
       "    }\n",
       "\n",
       "    .dataframe tbody tr th {\n",
       "        vertical-align: top;\n",
       "    }\n",
       "\n",
       "    .dataframe thead th {\n",
       "        text-align: right;\n",
       "    }\n",
       "</style>\n",
       "<table border=\"1\" class=\"dataframe\">\n",
       "  <thead>\n",
       "    <tr style=\"text-align: right;\">\n",
       "      <th></th>\n",
       "      <th>A</th>\n",
       "      <th>B</th>\n",
       "      <th>C</th>\n",
       "      <th>D</th>\n",
       "      <th>E</th>\n",
       "      <th>F</th>\n",
       "      <th>G</th>\n",
       "      <th>H</th>\n",
       "      <th>I</th>\n",
       "      <th>J</th>\n",
       "      <th>...</th>\n",
       "      <th>6</th>\n",
       "      <th>7</th>\n",
       "      <th>8</th>\n",
       "      <th>9</th>\n",
       "      <th>10</th>\n",
       "      <th>11</th>\n",
       "      <th>12</th>\n",
       "      <th>13</th>\n",
       "      <th>14</th>\n",
       "      <th>15</th>\n",
       "    </tr>\n",
       "  </thead>\n",
       "  <tbody>\n",
       "    <tr>\n",
       "      <th>0</th>\n",
       "      <td>1</td>\n",
       "      <td>1</td>\n",
       "      <td>1</td>\n",
       "      <td>0</td>\n",
       "      <td>1</td>\n",
       "      <td>1</td>\n",
       "      <td>0</td>\n",
       "      <td>1</td>\n",
       "      <td>1</td>\n",
       "      <td>0</td>\n",
       "      <td>...</td>\n",
       "      <td>0</td>\n",
       "      <td>0</td>\n",
       "      <td>0</td>\n",
       "      <td>0</td>\n",
       "      <td>0</td>\n",
       "      <td>0</td>\n",
       "      <td>0</td>\n",
       "      <td>0</td>\n",
       "      <td>0</td>\n",
       "      <td>0</td>\n",
       "    </tr>\n",
       "    <tr>\n",
       "      <th>1</th>\n",
       "      <td>2</td>\n",
       "      <td>1</td>\n",
       "      <td>1</td>\n",
       "      <td>0</td>\n",
       "      <td>1</td>\n",
       "      <td>1</td>\n",
       "      <td>0</td>\n",
       "      <td>1</td>\n",
       "      <td>1</td>\n",
       "      <td>1</td>\n",
       "      <td>...</td>\n",
       "      <td>0</td>\n",
       "      <td>0</td>\n",
       "      <td>0</td>\n",
       "      <td>0</td>\n",
       "      <td>0</td>\n",
       "      <td>0</td>\n",
       "      <td>0</td>\n",
       "      <td>0</td>\n",
       "      <td>0</td>\n",
       "      <td>0</td>\n",
       "    </tr>\n",
       "    <tr>\n",
       "      <th>2</th>\n",
       "      <td>0</td>\n",
       "      <td>1</td>\n",
       "      <td>0</td>\n",
       "      <td>0</td>\n",
       "      <td>1</td>\n",
       "      <td>0</td>\n",
       "      <td>0</td>\n",
       "      <td>1</td>\n",
       "      <td>0</td>\n",
       "      <td>0</td>\n",
       "      <td>...</td>\n",
       "      <td>0</td>\n",
       "      <td>0</td>\n",
       "      <td>0</td>\n",
       "      <td>0</td>\n",
       "      <td>0</td>\n",
       "      <td>0</td>\n",
       "      <td>0</td>\n",
       "      <td>0</td>\n",
       "      <td>0</td>\n",
       "      <td>0</td>\n",
       "    </tr>\n",
       "    <tr>\n",
       "      <th>3</th>\n",
       "      <td>0</td>\n",
       "      <td>1</td>\n",
       "      <td>0</td>\n",
       "      <td>1</td>\n",
       "      <td>0</td>\n",
       "      <td>0</td>\n",
       "      <td>0</td>\n",
       "      <td>0</td>\n",
       "      <td>0</td>\n",
       "      <td>0</td>\n",
       "      <td>...</td>\n",
       "      <td>0</td>\n",
       "      <td>0</td>\n",
       "      <td>0</td>\n",
       "      <td>0</td>\n",
       "      <td>0</td>\n",
       "      <td>0</td>\n",
       "      <td>0</td>\n",
       "      <td>0</td>\n",
       "      <td>0</td>\n",
       "      <td>0</td>\n",
       "    </tr>\n",
       "    <tr>\n",
       "      <th>4</th>\n",
       "      <td>0</td>\n",
       "      <td>0</td>\n",
       "      <td>0</td>\n",
       "      <td>0</td>\n",
       "      <td>0</td>\n",
       "      <td>0</td>\n",
       "      <td>0</td>\n",
       "      <td>0</td>\n",
       "      <td>0</td>\n",
       "      <td>0</td>\n",
       "      <td>...</td>\n",
       "      <td>0</td>\n",
       "      <td>0</td>\n",
       "      <td>0</td>\n",
       "      <td>0</td>\n",
       "      <td>0</td>\n",
       "      <td>0</td>\n",
       "      <td>0</td>\n",
       "      <td>0</td>\n",
       "      <td>0</td>\n",
       "      <td>0</td>\n",
       "    </tr>\n",
       "  </tbody>\n",
       "</table>\n",
       "<p>5 rows × 30 columns</p>\n",
       "</div>"
      ],
      "text/plain": [
       "   A  B  C  D  E  F  G  H  I  J  ...  6  7  8  9  10  11  12  13  14  15\n",
       "0  1  1  1  0  1  1  0  1  1  0  ...  0  0  0  0   0   0   0   0   0   0\n",
       "1  2  1  1  0  1  1  0  1  1  1  ...  0  0  0  0   0   0   0   0   0   0\n",
       "2  0  1  0  0  1  0  0  1  0  0  ...  0  0  0  0   0   0   0   0   0   0\n",
       "3  0  1  0  1  0  0  0  0  0  0  ...  0  0  0  0   0   0   0   0   0   0\n",
       "4  0  0  0  0  0  0  0  0  0  0  ...  0  0  0  0   0   0   0   0   0   0\n",
       "\n",
       "[5 rows x 30 columns]"
      ]
     },
     "execution_count": 7,
     "metadata": {},
     "output_type": "execute_result"
    }
   ],
   "source": [
    "temporal_df.head()"
   ]
  },
  {
   "cell_type": "code",
   "execution_count": 8,
   "metadata": {
    "colab": {},
    "colab_type": "code",
    "id": "31Df5ABIDenj",
    "outputId": "3ceed99c-7080-4da5-9e2e-456165674be4"
   },
   "outputs": [
    {
     "data": {
      "text/plain": [
       "{1: 35213,\n",
       " 2: 4648,\n",
       " 3: 312,\n",
       " 4: 88,\n",
       " 5: 39,\n",
       " 6: 28,\n",
       " 7: 13,\n",
       " 8: 8,\n",
       " 9: 5,\n",
       " 10: 5,\n",
       " 11: 5,\n",
       " 12: 15,\n",
       " 13: 7,\n",
       " 14: 3,\n",
       " 15: 2}"
      ]
     },
     "execution_count": 8,
     "metadata": {},
     "output_type": "execute_result"
    }
   ],
   "source": [
    "#Checking frequency of instances for each class\n",
    "dict_freq={}\n",
    "for i in range(1,16):\n",
    "    dict_freq[i]=len(temporal_df[temporal_df[str(i)]==1])\n",
    "dict_freq"
   ]
  },
  {
   "cell_type": "code",
   "execution_count": 9,
   "metadata": {
    "colab": {},
    "colab_type": "code",
    "id": "j1lKW7OdDeno"
   },
   "outputs": [],
   "source": [
    "#Using unbalanced data\n",
    "temporal_df = temporal_df.sample(frac = 1,random_state=5) #Shuffling the data\n",
    "X_pre = temporal_df.iloc[:, 0:(num_years*len(features))]\n",
    "Y_pre = temporal_df.iloc[:, (num_years*len(features)):]\n",
    "X=X_pre.values\n",
    "Y=Y_pre.values"
   ]
  },
  {
   "cell_type": "code",
   "execution_count": 10,
   "metadata": {},
   "outputs": [],
   "source": [
    "#Successful oversampling of data? code runs but might not actually oversample?\n",
    "#Will be updated, eventually.  For this version, it is unnecessary\n",
    "#ros=RandomOverSampler(sampling_strategy=\"auto\")\n",
    "#y_name=np.array(temporal_df.index)\n",
    "#test_temporal_df,y_test_temporal=ros.fit_sample(temporal_df,y_name)\n",
    "#test_pre = test_temporal_df.iloc[:, (num_years*len(features)):]\n",
    "#testY = test_pre.values\n",
    "#test_temporal_df"
   ]
  },
  {
   "cell_type": "code",
   "execution_count": 11,
   "metadata": {
    "colab": {},
    "colab_type": "code",
    "id": "_gQjlQhkDenv",
    "outputId": "c4bc0b34-c4a8-44d5-b8a4-5289ba29a5a4"
   },
   "outputs": [
    {
     "data": {
      "text/plain": [
       "array([35213,  4648,   312,    88,    39,    28,    13,     8,     5,\n",
       "           5,     5,    15,     7,     3,     2], dtype=int64)"
      ]
     },
     "execution_count": 11,
     "metadata": {},
     "output_type": "execute_result"
    }
   ],
   "source": [
    "#Shows all the class labels are now equally represented\n",
    "y=np.argmax(Y, axis=1)\n",
    "np.bincount(y)"
   ]
  },
  {
   "cell_type": "markdown",
   "metadata": {
    "colab_type": "text",
    "id": "VabCVE9bDen2"
   },
   "source": [
    "## LSTM Implementation for classification"
   ]
  },
  {
   "cell_type": "markdown",
   "metadata": {
    "colab_type": "text",
    "id": "gU1TLrAJDen2"
   },
   "source": [
    "Hyperparameter Tuning"
   ]
  },
  {
   "cell_type": "code",
   "execution_count": 12,
   "metadata": {
    "colab": {},
    "colab_type": "code",
    "id": "v0vruIGJDen3"
   },
   "outputs": [],
   "source": [
    "def create_network_hyp(nodes_1,lstm_node,dropout,recurrent_dropout):\n",
    "    network = Sequential()\n",
    "    network.add(BatchNormalization(input_shape=(num_years, len(features))))\n",
    "    network.add(Dense(nodes_1, activation=\"tanh\"))\n",
    "    network.add(LSTM(lstm_node, dropout = dropout, recurrent_dropout = recurrent_dropout, activation=\"tanh\"))\n",
    "    network.add(Dense(15, activation=\"softmax\"))\n",
    "    network.compile(loss='categorical_crossentropy', optimizer='adam', metrics=['accuracy'])\n",
    "  \n",
    "    return network"
   ]
  },
  {
   "cell_type": "code",
   "execution_count": 13,
   "metadata": {
    "colab": {},
    "colab_type": "code",
    "id": "f8jhuUjYDen6"
   },
   "outputs": [],
   "source": [
    "#Objective function to be minimized\n",
    "def objective(params):\n",
    "    nodes_1=params[\"nodes_1\"]\n",
    "    dropout=params[\"dropout\"]\n",
    "    recurrent_dropout=params[\"recurrent_dropout\"]\n",
    "    lstm_node=params[\"lstm_node\"]\n",
    "    \n",
    "    indices=[i for i in range(len(X))]\n",
    "    indices=shuffle(indices, random_state=4)\n",
    "    split_ratio=0.8    #80-20 split ratio for train-val set\n",
    "    train_index=indices[0:int(split_ratio*len(X))]\n",
    "    val_index=indices[int(split_ratio*len(X)):]\n",
    "\n",
    "    \n",
    "    X_pre_train = temporal_df.iloc[train_index, 0:(num_years*len(features))]\n",
    "    Y_pre_train = temporal_df.iloc[train_index, (num_years*len(features)):]\n",
    "    X_pre_val = temporal_df.iloc[val_index, 0:(num_years*len(features))]\n",
    "    Y_pre_val = temporal_df.iloc[val_index, (num_years*len(features)):]\n",
    "    X_pre_train_combine=pd.concat([X_pre_train, Y_pre_train], axis=1)\n",
    "    \n",
    "    #Oversampling the training data to balance the classes\n",
    "    num_cl=len(X_pre_train_combine[X_pre_train_combine[\"1\"]==1])\n",
    "    df_balanced=X_pre_train_combine[X_pre_train_combine[\"1\"]==1]\n",
    "    df_balanced_train = df_balanced.sample(frac = 1, random_state=4)   #Shuffling the data\n",
    "    X_pre_train = df_balanced_train.iloc[:, 0:(num_years*len(features))]\n",
    "    Y_pre_train = df_balanced_train.iloc[:, (num_years*len(features)):]\n",
    "    #ros=RandomOverSampler(sampling_strategy=\"auto\")\n",
    "    #y=np.array(temporal_df.columns)\n",
    "    #test_temporal_df=ros.fit_resample(temporal_df,y)\n",
    "    \n",
    "    \n",
    "    X_train=X_pre_train.values\n",
    "    Y_train=Y_pre_train.values\n",
    "    X_val=X_pre_val.values\n",
    "    Y_val=Y_pre_val.values\n",
    "    \n",
    "    #Transforming input variables into LSTM input format\n",
    "    X_train = X_train.reshape(X_train.shape[0], num_years, len(features))\n",
    "    X_val = X_val.reshape(X_val.shape[0], num_years, len(features))\n",
    "    Y_train=Y_train\n",
    "    Y_val=Y_val\n",
    "    \n",
    "    #Creating model\n",
    "    model=create_network_hyp(nodes_1,lstm_node,dropout,recurrent_dropout)\n",
    "    Hist=model.fit(X_train, Y_train, epochs=1, validation_data=(X_val, Y_val), verbose=2, class_weight=None)\n",
    "    \n",
    "    #Final epoch accuracies for validation dataset\n",
    "    acc_val=Hist.history[\"val_accuracy\"][-1]\n",
    "\n",
    "    return -acc_val   #Minimizing the objective function"
   ]
  },
  {
   "cell_type": "code",
   "execution_count": 14,
   "metadata": {
    "colab": {},
    "colab_type": "code",
    "id": "KvNkS3wrDen9"
   },
   "outputs": [],
   "source": [
    "#Declaring hyperparameter search space\n",
    "space={\"nodes_1\": hp.choice(\"nodes_1\", range(4,20)), \"dropout\": hp.uniform(\"dropout\", 0.1, 0.4),\"lstm_node\":hp.choice(\"lstm_node\", range(15,20)), \"recurrent_dropout\": hp.uniform(\"recurrent_dropout\", 0.1, 0.4)}"
   ]
  },
  {
   "cell_type": "code",
   "execution_count": 15,
   "metadata": {
    "colab": {},
    "colab_type": "code",
    "id": "LLgLrUosDeoA"
   },
   "outputs": [],
   "source": [
    "# Create a trials object\n",
    "tpe_trials = Trials()\n",
    "# Create the algorithm\n",
    "tpe_algo = tpe.suggest"
   ]
  },
  {
   "cell_type": "code",
   "execution_count": 16,
   "metadata": {
    "colab": {},
    "colab_type": "code",
    "id": "owW7SLIiDeoF",
    "outputId": "fc767c62-ca57-4530-9cc2-f38d192b5cbd"
   },
   "outputs": [
    {
     "name": "stdout",
     "output_type": "stream",
     "text": [
      "Train on 28125 samples, validate on 8079 samples     \n",
      "Epoch 1/1                                            \n",
      " - 3s - loss: 0.2088 - accuracy: 0.9673 - val_loss: 1.1858 - val_accuracy: 0.8773\n",
      "\n",
      "Train on 28125 samples, validate on 8079 samples                               \n",
      "Epoch 1/1                                                                      \n",
      " - 3s - loss: 0.2266 - accuracy: 0.9693 - val_loss: 1.2235 - val_accuracy: 0.8773\n",
      "\n",
      "Train on 28125 samples, validate on 8079 samples                               \n",
      "Epoch 1/1                                                                      \n",
      " - 3s - loss: 0.2265 - accuracy: 0.9746 - val_loss: 1.2447 - val_accuracy: 0.8773\n",
      "\n",
      "Train on 28125 samples, validate on 8079 samples                               \n",
      "Epoch 1/1                                                                      \n",
      " - 3s - loss: 0.2462 - accuracy: 0.9705 - val_loss: 1.0538 - val_accuracy: 0.8773\n",
      "\n",
      "Train on 28125 samples, validate on 8079 samples                               \n",
      "Epoch 1/1                                                                      \n",
      " - 3s - loss: 0.2197 - accuracy: 0.9673 - val_loss: 1.1397 - val_accuracy: 0.8773\n",
      "\n",
      "100%|██████████| 5/5 [00:20<00:00,  4.11s/trial, best loss: -0.877336323261261]\n"
     ]
    }
   ],
   "source": [
    "# Run bayesian optimization for hyperparameter tuning\n",
    "tpe_best = fmin(fn=objective, space=space, algo=tpe_algo, trials=tpe_trials, max_evals=5)"
   ]
  },
  {
   "cell_type": "code",
   "execution_count": 17,
   "metadata": {
    "colab": {},
    "colab_type": "code",
    "id": "25BXejW2DeoJ",
    "outputId": "0a0bd0b8-540f-4f45-be56-0d161951ba29"
   },
   "outputs": [
    {
     "data": {
      "text/html": [
       "<div>\n",
       "<style scoped>\n",
       "    .dataframe tbody tr th:only-of-type {\n",
       "        vertical-align: middle;\n",
       "    }\n",
       "\n",
       "    .dataframe tbody tr th {\n",
       "        vertical-align: top;\n",
       "    }\n",
       "\n",
       "    .dataframe thead th {\n",
       "        text-align: right;\n",
       "    }\n",
       "</style>\n",
       "<table border=\"1\" class=\"dataframe\">\n",
       "  <thead>\n",
       "    <tr style=\"text-align: right;\">\n",
       "      <th></th>\n",
       "      <th>Accuracy</th>\n",
       "      <th>iteration</th>\n",
       "      <th>nodes_1</th>\n",
       "      <th>dropout</th>\n",
       "      <th>recurrent_dropout</th>\n",
       "    </tr>\n",
       "  </thead>\n",
       "  <tbody>\n",
       "    <tr>\n",
       "      <th>0</th>\n",
       "      <td>0.877336</td>\n",
       "      <td>0</td>\n",
       "      <td>9</td>\n",
       "      <td>0.279128</td>\n",
       "      <td>0.260853</td>\n",
       "    </tr>\n",
       "    <tr>\n",
       "      <th>1</th>\n",
       "      <td>0.877336</td>\n",
       "      <td>1</td>\n",
       "      <td>9</td>\n",
       "      <td>0.194803</td>\n",
       "      <td>0.327353</td>\n",
       "    </tr>\n",
       "    <tr>\n",
       "      <th>2</th>\n",
       "      <td>0.877336</td>\n",
       "      <td>2</td>\n",
       "      <td>7</td>\n",
       "      <td>0.190494</td>\n",
       "      <td>0.204454</td>\n",
       "    </tr>\n",
       "    <tr>\n",
       "      <th>3</th>\n",
       "      <td>0.877336</td>\n",
       "      <td>3</td>\n",
       "      <td>9</td>\n",
       "      <td>0.297436</td>\n",
       "      <td>0.126734</td>\n",
       "    </tr>\n",
       "    <tr>\n",
       "      <th>4</th>\n",
       "      <td>0.877336</td>\n",
       "      <td>4</td>\n",
       "      <td>15</td>\n",
       "      <td>0.100162</td>\n",
       "      <td>0.171521</td>\n",
       "    </tr>\n",
       "  </tbody>\n",
       "</table>\n",
       "</div>"
      ],
      "text/plain": [
       "   Accuracy  iteration  nodes_1   dropout  recurrent_dropout\n",
       "0  0.877336          0        9  0.279128           0.260853\n",
       "1  0.877336          1        9  0.194803           0.327353\n",
       "2  0.877336          2        7  0.190494           0.204454\n",
       "3  0.877336          3        9  0.297436           0.126734\n",
       "4  0.877336          4       15  0.100162           0.171521"
      ]
     },
     "execution_count": 17,
     "metadata": {},
     "output_type": "execute_result"
    }
   ],
   "source": [
    "tpe_results = pd.DataFrame({'Accuracy': [-x['loss'] for x in tpe_trials.results], \n",
    "                            'iteration': tpe_trials.idxs_vals[0]['nodes_1'],\n",
    "                            'nodes_1': tpe_trials.idxs_vals[1]['nodes_1'],\n",
    "                            'dropout': tpe_trials.idxs_vals[1]['dropout'],\n",
    "                            'recurrent_dropout': tpe_trials.idxs_vals[1]['recurrent_dropout']})\n",
    "                            \n",
    "tpe_results.head()"
   ]
  },
  {
   "cell_type": "code",
   "execution_count": 18,
   "metadata": {
    "colab": {},
    "colab_type": "code",
    "id": "jeLXbMUfDeoQ",
    "outputId": "279835a3-2436-4b28-d3fc-6c2aac53ca68"
   },
   "outputs": [
    {
     "name": "stdout",
     "output_type": "stream",
     "text": [
      "{'dropout': 0.27912836935043517, 'lstm_node': 4, 'nodes_1': 9, 'recurrent_dropout': 0.26085314270410476}\n"
     ]
    }
   ],
   "source": [
    "#Best parameters\n",
    "print(tpe_best)"
   ]
  },
  {
   "cell_type": "markdown",
   "metadata": {
    "colab_type": "text",
    "id": "XhqPl30tDeoa"
   },
   "source": [
    "Training of model after hyperparameter tuning"
   ]
  },
  {
   "cell_type": "code",
   "execution_count": 19,
   "metadata": {
    "colab": {},
    "colab_type": "code",
    "id": "HK5WZ1g4Deoa"
   },
   "outputs": [],
   "source": [
    "def create_network():\n",
    "    network = Sequential()\n",
    "    network.add(BatchNormalization(input_shape=(num_years, len(features))))\n",
    "    network.add(Dense(4, activation=\"tanh\"))\n",
    "    network.add(LSTM(14, dropout = 0.2, recurrent_dropout = 0.2, activation=\"tanh\"))\n",
    "    network.add(Dense(15, activation=\"softmax\"))\n",
    "    network.compile(loss='categorical_crossentropy', optimizer='adam', metrics=['accuracy'])\n",
    "  \n",
    "    return network"
   ]
  },
  {
   "cell_type": "code",
   "execution_count": 33,
   "metadata": {
    "colab": {},
    "colab_type": "code",
    "id": "43QhMEr4Deod",
    "outputId": "89c15229-3116-4198-c745-f83a3451a85a"
   },
   "outputs": [
    {
     "name": "stdout",
     "output_type": "stream",
     "text": [
      "Train on 23504 samples, validate on 13464 samples\n",
      "Epoch 1/2\n",
      " - 2s - loss: 0.3349 - accuracy: 0.9489 - val_loss: 1.2542 - val_accuracy: 0.8697\n",
      "Epoch 2/2\n",
      " - 2s - loss: 0.0012 - accuracy: 1.0000 - val_loss: 1.3901 - val_accuracy: 0.8697\n",
      "Train on 23442 samples, validate on 13464 samples\n",
      "Epoch 1/2\n",
      " - 2s - loss: 0.3505 - accuracy: 0.9460 - val_loss: 1.1583 - val_accuracy: 0.8743\n",
      "Epoch 2/2\n",
      " - 2s - loss: 0.0019 - accuracy: 1.0000 - val_loss: 1.3079 - val_accuracy: 0.8743\n",
      "Train on 23480 samples, validate on 13463 samples\n",
      "Epoch 1/2\n",
      " - 2s - loss: 0.3085 - accuracy: 0.9676 - val_loss: 1.0240 - val_accuracy: 0.8715\n",
      "Epoch 2/2\n",
      " - 2s - loss: 0.0015 - accuracy: 1.0000 - val_loss: 1.1932 - val_accuracy: 0.8715\n",
      "Training accuracy:1.0\n",
      "Validation accuracy:0.8718031048774719\n"
     ]
    }
   ],
   "source": [
    "#Cross-validation setup\n",
    "acc_train=[]\n",
    "acc_val=[]\n",
    "kf = KFold(n_splits=3, shuffle=True)\n",
    "for train_index, val_index in kf.split(X):   \n",
    "    X_pre_train = temporal_df.iloc[train_index, 0:(num_years*len(features))]\n",
    "    Y_pre_train = temporal_df.iloc[train_index, (num_years*len(features)):]\n",
    "    X_pre_val = temporal_df.iloc[val_index, 0:(num_years*len(features))]\n",
    "    Y_pre_val = temporal_df.iloc[val_index, (num_years*len(features)):]\n",
    "    X_pre_train_combine=pd.concat([X_pre_train, Y_pre_train], axis=1)\n",
    "    \n",
    "    #Oversampling the training data to balance the classes\n",
    "    num_cl=len(X_pre_train_combine[X_pre_train_combine[\"1\"]==1])\n",
    "    df_balanced=X_pre_train_combine[X_pre_train_combine[\"1\"]==1]\n",
    "    df_balanced_train = df_balanced.sample(frac = 1, random_state=4)   #Shuffling the data\n",
    "    X_pre_train = df_balanced_train.iloc[:, 0:(num_years*len(features))]\n",
    "    Y_pre_train = df_balanced_train.iloc[:, (num_years*len(features)):]\n",
    "    #ros=RandomOverSampler(sampling_strategy=\"auto\")\n",
    "    #y=np.array(temporal_df.columns)\n",
    "    #test_temporal_df=ros.fit_resample(temporal_df,y)\n",
    "    \n",
    "    \n",
    "    X_train=X_pre_train.values\n",
    "    Y_train=Y_pre_train.values\n",
    "    X_val=X_pre_val.values\n",
    "    Y_val=Y_pre_val.values\n",
    "    \n",
    "    #Transforming input variables into LSTM input format\n",
    "    X_train = X_train.reshape(X_train.shape[0], num_years, len(features))\n",
    "    X_val = X_val.reshape(X_val.shape[0], num_years, len(features))\n",
    "    Y_train=Y_train\n",
    "    Y_val=Y_val\n",
    "    \n",
    "    #Creating model\n",
    "    model=create_network()\n",
    "    Hist=model.fit(X_train, Y_train, epochs=2, validation_data=(X_val, Y_val), verbose=2, class_weight=None)\n",
    "    \n",
    "    #Final epoch accuracies for training and validation dataset\n",
    "    acc_train.append(Hist.history[\"accuracy\"][-1])\n",
    "    acc_val.append(Hist.history[\"val_accuracy\"][-1])\n",
    "    \n",
    "print(\"Training accuracy:\" + str(np.mean(acc_train)))\n",
    "print(\"Validation accuracy:\" + str(np.mean(acc_val)))\n",
    "    "
   ]
  },
  {
   "cell_type": "code",
   "execution_count": 34,
   "metadata": {
    "colab": {},
    "colab_type": "code",
    "id": "YJSiuBXxDeog",
    "outputId": "446f0cb2-443f-4a89-f832-8774e3ff63cc"
   },
   "outputs": [
    {
     "data": {
      "image/png": "[encoded data removed]",
      "text/plain": [
       "<Figure size 432x288 with 1 Axes>"
      ]
     },
     "metadata": {
      "needs_background": "light"
     },
     "output_type": "display_data"
    },
    {
     "data": {
      "image/png": "[encoded data removed]",
      "text/plain": [
       "<Figure size 432x288 with 1 Axes>"
      ]
     },
     "metadata": {
      "needs_background": "light"
     },
     "output_type": "display_data"
    }
   ],
   "source": [
    "# Plot training & validation accuracy values\n",
    "plt.plot(Hist.history['accuracy'])\n",
    "plt.plot(Hist.history['val_accuracy'])\n",
    "plt.title('Model accuracy')\n",
    "plt.ylabel('Accuracy')\n",
    "plt.xlabel('Epoch')\n",
    "plt.legend(['Train', 'Test'], loc='upper left')\n",
    "plt.show()\n",
    "\n",
    "# Plot training & validation loss values\n",
    "plt.plot(Hist.history['loss'])\n",
    "plt.plot(Hist.history['val_loss'])\n",
    "plt.title('Model loss')\n",
    "plt.ylabel('Loss')\n",
    "plt.xlabel('Epoch')\n",
    "plt.legend(['Train', 'Test'], loc='upper left')\n",
    "plt.show()"
   ]
  },
  {
   "cell_type": "code",
   "execution_count": 22,
   "metadata": {
    "colab": {},
    "colab_type": "code",
    "id": "6ojT1-BIDeom"
   },
   "outputs": [],
   "source": [
    "X_test=temporal_df_test.values\n",
    "X_test = X_test.reshape(X_test.shape[0], num_years, len(features))"
   ]
  },
  {
   "cell_type": "code",
   "execution_count": 35,
   "metadata": {
    "colab": {},
    "colab_type": "code",
    "id": "VFD7qhq1Deop"
   },
   "outputs": [],
   "source": [
    "#Predicting value for train, val, and test datasets\n",
    "pred_train=model.predict(X_train)\n",
    "pred_val=model.predict(X_val)\n",
    "pred_test=model.predict(X_test)"
   ]
  },
  {
   "cell_type": "code",
   "execution_count": 36,
   "metadata": {
    "colab": {},
    "colab_type": "code",
    "id": "Uw1-KdOFDeox"
   },
   "outputs": [],
   "source": [
    "#Converting probabilities to class labels\n",
    "pred_train_class=np.argmax(pred_train, axis=1)+1\n",
    "pred_train_class=list(map(lambda x: str(x), pred_train_class))\n",
    "pred_val_class=np.argmax(pred_val, axis=1)+1\n",
    "pred_val_class=list(map(lambda x: str(x), pred_val_class))\n",
    "pred_test_class=np.argmax(pred_test, axis=1)+1"
   ]
  },
  {
   "cell_type": "code",
   "execution_count": 37,
   "metadata": {
    "colab": {},
    "colab_type": "code",
    "id": "VX3YaPluDeo2"
   },
   "outputs": [],
   "source": [
    "true_train_class=np.argmax(Y_train, axis=1)+1\n",
    "true_train_class=list(map(lambda x: str(x), true_train_class))\n",
    "true_val_class=np.argmax(Y_val, axis=1)+1\n",
    "true_val_class=list(map(lambda x: str(x), true_val_class))"
   ]
  },
  {
   "cell_type": "code",
   "execution_count": 38,
   "metadata": {
    "colab": {},
    "colab_type": "code",
    "id": "7A7M9ACWDeo6"
   },
   "outputs": [
    {
     "name": "stderr",
     "output_type": "stream",
     "text": [
      "C:\\ProgramData\\Anaconda3\\lib\\site-packages\\sklearn\\utils\\validation.py:71: FutureWarning: Pass labels=['1', '2', '3', '4', '5', '6', '7', '8', '9', '10', '11', '12', '13', '14', '15'] as keyword args. From version 0.25 passing these as positional arguments will result in an error\n",
      "  FutureWarning)\n"
     ]
    }
   ],
   "source": [
    "labels = [str(i) for i in range(1,16)]\n",
    "cm_train = confusion_matrix(true_train_class, pred_train_class , labels)\n",
    "cm_val = confusion_matrix(true_val_class, pred_val_class , labels)"
   ]
  },
  {
   "cell_type": "code",
   "execution_count": 39,
   "metadata": {
    "colab": {},
    "colab_type": "code",
    "id": "7cEF31k-Deo-",
    "outputId": "9ae82c8d-c3fb-495b-9889-815d5de6a716"
   },
   "outputs": [
    {
     "name": "stdout",
     "output_type": "stream",
     "text": [
      "              1     2     3     4     5     6     7     8     9    10    11    12    13    14    15 \n",
      "        1 23480.0   0.0   0.0   0.0   0.0   0.0   0.0   0.0   0.0   0.0   0.0   0.0   0.0   0.0   0.0 \n",
      "        2   0.0   0.0   0.0   0.0   0.0   0.0   0.0   0.0   0.0   0.0   0.0   0.0   0.0   0.0   0.0 \n",
      "        3   0.0   0.0   0.0   0.0   0.0   0.0   0.0   0.0   0.0   0.0   0.0   0.0   0.0   0.0   0.0 \n",
      "        4   0.0   0.0   0.0   0.0   0.0   0.0   0.0   0.0   0.0   0.0   0.0   0.0   0.0   0.0   0.0 \n",
      "        5   0.0   0.0   0.0   0.0   0.0   0.0   0.0   0.0   0.0   0.0   0.0   0.0   0.0   0.0   0.0 \n",
      "        6   0.0   0.0   0.0   0.0   0.0   0.0   0.0   0.0   0.0   0.0   0.0   0.0   0.0   0.0   0.0 \n",
      "        7   0.0   0.0   0.0   0.0   0.0   0.0   0.0   0.0   0.0   0.0   0.0   0.0   0.0   0.0   0.0 \n",
      "        8   0.0   0.0   0.0   0.0   0.0   0.0   0.0   0.0   0.0   0.0   0.0   0.0   0.0   0.0   0.0 \n",
      "        9   0.0   0.0   0.0   0.0   0.0   0.0   0.0   0.0   0.0   0.0   0.0   0.0   0.0   0.0   0.0 \n",
      "       10   0.0   0.0   0.0   0.0   0.0   0.0   0.0   0.0   0.0   0.0   0.0   0.0   0.0   0.0   0.0 \n",
      "       11   0.0   0.0   0.0   0.0   0.0   0.0   0.0   0.0   0.0   0.0   0.0   0.0   0.0   0.0   0.0 \n",
      "       12   0.0   0.0   0.0   0.0   0.0   0.0   0.0   0.0   0.0   0.0   0.0   0.0   0.0   0.0   0.0 \n",
      "       13   0.0   0.0   0.0   0.0   0.0   0.0   0.0   0.0   0.0   0.0   0.0   0.0   0.0   0.0   0.0 \n",
      "       14   0.0   0.0   0.0   0.0   0.0   0.0   0.0   0.0   0.0   0.0   0.0   0.0   0.0   0.0   0.0 \n",
      "       15   0.0   0.0   0.0   0.0   0.0   0.0   0.0   0.0   0.0   0.0   0.0   0.0   0.0   0.0   0.0 \n"
     ]
    }
   ],
   "source": [
    "print_cm(cm_train, labels)"
   ]
  },
  {
   "cell_type": "code",
   "execution_count": 40,
   "metadata": {
    "colab": {},
    "colab_type": "code",
    "id": "rqtJvB8bDepB",
    "outputId": "a5d92e1b-12a3-4fb1-d0f6-472453ec8240"
   },
   "outputs": [
    {
     "name": "stdout",
     "output_type": "stream",
     "text": [
      "              1     2     3     4     5     6     7     8     9    10    11    12    13    14    15 \n",
      "        1 11733.0   0.0   0.0   0.0   0.0   0.0   0.0   0.0   0.0   0.0   0.0   0.0   0.0   0.0   0.0 \n",
      "        2 1553.0   0.0   0.0   0.0   0.0   0.0   0.0   0.0   0.0   0.0   0.0   0.0   0.0   0.0   0.0 \n",
      "        3 104.0   0.0   0.0   0.0   0.0   0.0   0.0   0.0   0.0   0.0   0.0   0.0   0.0   0.0   0.0 \n",
      "        4  31.0   0.0   0.0   0.0   0.0   0.0   0.0   0.0   0.0   0.0   0.0   0.0   0.0   0.0   0.0 \n",
      "        5  13.0   0.0   0.0   0.0   0.0   0.0   0.0   0.0   0.0   0.0   0.0   0.0   0.0   0.0   0.0 \n",
      "        6   8.0   0.0   0.0   0.0   0.0   0.0   0.0   0.0   0.0   0.0   0.0   0.0   0.0   0.0   0.0 \n",
      "        7   7.0   0.0   0.0   0.0   0.0   0.0   0.0   0.0   0.0   0.0   0.0   0.0   0.0   0.0   0.0 \n",
      "        8   2.0   0.0   0.0   0.0   0.0   0.0   0.0   0.0   0.0   0.0   0.0   0.0   0.0   0.0   0.0 \n",
      "        9   3.0   0.0   0.0   0.0   0.0   0.0   0.0   0.0   0.0   0.0   0.0   0.0   0.0   0.0   0.0 \n",
      "       10   3.0   0.0   0.0   0.0   0.0   0.0   0.0   0.0   0.0   0.0   0.0   0.0   0.0   0.0   0.0 \n",
      "       11   2.0   0.0   0.0   0.0   0.0   0.0   0.0   0.0   0.0   0.0   0.0   0.0   0.0   0.0   0.0 \n",
      "       12   3.0   0.0   0.0   0.0   0.0   0.0   0.0   0.0   0.0   0.0   0.0   0.0   0.0   0.0   0.0 \n",
      "       13   0.0   0.0   0.0   0.0   0.0   0.0   0.0   0.0   0.0   0.0   0.0   0.0   0.0   0.0   0.0 \n",
      "       14   0.0   0.0   0.0   0.0   0.0   0.0   0.0   0.0   0.0   0.0   0.0   0.0   0.0   0.0   0.0 \n",
      "       15   1.0   0.0   0.0   0.0   0.0   0.0   0.0   0.0   0.0   0.0   0.0   0.0   0.0   0.0   0.0 \n"
     ]
    }
   ],
   "source": [
    "print_cm(cm_val, labels)"
   ]
  },
  {
   "cell_type": "code",
   "execution_count": 41,
   "metadata": {
    "colab": {},
    "colab_type": "code",
    "id": "MCqI68VcDepH",
    "outputId": "80ed6d6e-e668-4a92-be58-c2b9ee5e3278"
   },
   "outputs": [
    {
     "name": "stdout",
     "output_type": "stream",
     "text": [
      "              precision    recall  f1-score   support\n",
      "\n",
      "           1       0.87      1.00      0.93     11733\n",
      "          10       0.00      0.00      0.00         3\n",
      "          11       0.00      0.00      0.00         2\n",
      "          12       0.00      0.00      0.00         3\n",
      "          15       0.00      0.00      0.00         1\n",
      "           2       0.00      0.00      0.00      1553\n",
      "           3       0.00      0.00      0.00       104\n",
      "           4       0.00      0.00      0.00        31\n",
      "           5       0.00      0.00      0.00        13\n",
      "           6       0.00      0.00      0.00         8\n",
      "           7       0.00      0.00      0.00         7\n",
      "           8       0.00      0.00      0.00         2\n",
      "           9       0.00      0.00      0.00         3\n",
      "\n",
      "    accuracy                           0.87     13463\n",
      "   macro avg       0.07      0.08      0.07     13463\n",
      "weighted avg       0.76      0.87      0.81     13463\n",
      "\n"
     ]
    },
    {
     "name": "stderr",
     "output_type": "stream",
     "text": [
      "C:\\ProgramData\\Anaconda3\\lib\\site-packages\\sklearn\\metrics\\_classification.py:1221: UndefinedMetricWarning: Precision and F-score are ill-defined and being set to 0.0 in labels with no predicted samples. Use `zero_division` parameter to control this behavior.\n",
      "  _warn_prf(average, modifier, msg_start, len(result))\n"
     ]
    }
   ],
   "source": [
    "#Evaluation metrics for valdation dataset\n",
    "print(metrics.classification_report(true_val_class, pred_val_class))"
   ]
  },
  {
   "cell_type": "markdown",
   "metadata": {
    "colab_type": "text",
    "id": "xF2j3konDepe"
   },
   "source": [
    "Generating test data frame results"
   ]
  },
  {
   "cell_type": "code",
   "execution_count": 42,
   "metadata": {
    "colab": {},
    "colab_type": "code",
    "id": "v0xfdWeuDepf"
   },
   "outputs": [],
   "source": [
    "result_path=\"C:/Users/andre/NCSA_Python/SPIN_CDC/WNV_forecasting_template_(4-20-2020).csv\"\n",
    "df_result=pd.read_csv(result_path)\n",
    "df_final=pred_test"
   ]
  },
  {
   "cell_type": "code",
   "execution_count": 43,
   "metadata": {},
   "outputs": [],
   "source": [
    "df_final_list = np.array(df_final).tolist()"
   ]
  },
  {
   "cell_type": "code",
   "execution_count": 45,
   "metadata": {
    "colab": {},
    "colab_type": "code",
    "id": "UoXW-S-eDepi"
   },
   "outputs": [],
   "source": [
    "values={}\n",
    "for i in range(len(df_final_list)):\n",
    "    values[\"{0}\".format(i+1)]=df_final_list[i]\n",
    "values_df = pd.DataFrame.from_dict(values,'index')\n",
    "\n",
    "rename={}\n",
    "for i in range(0,15):\n",
    "    rename[i]=\"{0}\".format(i+1)\n",
    "\n",
    "counties=[]\n",
    "counties_new=[]\n",
    "counties=df_county.values.tolist()\n",
    "for i in counties:\n",
    "    counties_new.append(counties[counties.index(i)][0])\n",
    "    \n",
    "valu_df_re = values_df.rename(rename,axis='columns')\n",
    "valu_df_re[\"County\"]=counties_new\n",
    "cols=valu_df_re.columns.tolist()\n",
    "cols = cols[-1:] + cols[:-1]\n",
    "valu_df_re=valu_df_re[cols]\n",
    "\n",
    "valu_df_re.to_csv(\"C:/Users/andre/NCSA_Python/SPIN_CDC/Bin_Values_6_24_2020.csv\", index=False)"
   ]
  },
  {
   "cell_type": "code",
   "execution_count": null,
   "metadata": {},
   "outputs": [],
   "source": []
  }
 ],
 "metadata": {
  "colab": {
   "name": "ANDY_CLEAN_CDC Challenge_model-val_split_prior.ipynb",
   "provenance": []
  },
  "kernelspec": {
   "display_name": "Python 3",
   "language": "python",
   "name": "python3"
  },
  "language_info": {
   "codemirror_mode": {
    "name": "ipython",
    "version": 3
   },
   "file_extension": ".py",
   "mimetype": "text/x-python",
   "name": "python",
   "nbconvert_exporter": "python",
   "pygments_lexer": "ipython3",
   "version": "3.7.6"
  }
 },
 "nbformat": 4,
 "nbformat_minor": 4
}
